{
 "cells": [
  {
   "cell_type": "code",
   "execution_count": 1,
   "metadata": {},
   "outputs": [
    {
     "name": "stderr",
     "output_type": "stream",
     "text": [
      "/home/ach/anaconda3/envs/amgpt/lib/python3.10/site-packages/tqdm/auto.py:21: TqdmWarning: IProgress not found. Please update jupyter and ipywidgets. See https://ipywidgets.readthedocs.io/en/stable/user_install.html\n",
      "  from .autonotebook import tqdm as notebook_tqdm\n"
     ]
    }
   ],
   "source": [
    "from llama_index.readers.web import MainContentExtractorReader\n",
    "urls = [\"https://link.springer.com/article/10.1007/s40820-024-01446-w\"]\n",
    "loader = MainContentExtractorReader()\n",
    "documents = loader.load_data(urls)"
   ]
  },
  {
   "cell_type": "code",
   "execution_count": 2,
   "metadata": {},
   "outputs": [
    {
     "data": {
      "text/plain": [
       "Document(id_='05df7d21-596a-424a-8f30-9d2ec0058f94', embedding=None, metadata={}, excluded_embed_metadata_keys=[], excluded_llm_metadata_keys=[], relationships={}, text='###  Multi-Dimensional Composite Frame as Bifunctional Catalytic Medium for\\nUltra-Fast Charging Lithium–Sulfur Battery\\n\\nArticle Open access 06 October 2022\\n\\n###  A Ni/Ni2P heterostructure in modified porous carbon separator for\\nboosting polysulfide catalytic conversion\\n\\nArticle 07 April 2022\\n\\n###  Manipulating fast Li2S redox via carbon confinement and oxygen defect\\nengineering of In2O3 for lithium–sulfur batteries\\n\\nArticle 25 January 2024\\n\\n', start_char_idx=None, end_char_idx=None, text_template='{metadata_str}\\n\\n{content}', metadata_template='{key}: {value}', metadata_seperator='\\n')"
      ]
     },
     "execution_count": 2,
     "metadata": {},
     "output_type": "execute_result"
    }
   ],
   "source": [
    "documents[0]"
   ]
  },
  {
   "cell_type": "code",
   "execution_count": 3,
   "metadata": {},
   "outputs": [],
   "source": [
    "from selenium import webdriver\n",
    "from selenium.webdriver.common.by import By\n",
    "from selenium.webdriver.chrome.service import Service\n",
    "from webdriver_manager.chrome import ChromeDriverManager\n",
    "import time\n",
    "\n",
    "# Set up the Selenium WebDriver\n",
    "service = Service(ChromeDriverManager().install())\n",
    "options = webdriver.ChromeOptions()\n",
    "options.add_experimental_option('prefs', {\n",
    "    \"download.default_directory\": \"/home/ach/Downloads/AMGPT2\", # Change to your preferred download directory\n",
    "    \"download.prompt_for_download\": False,\n",
    "    \"plugins.always_open_pdf_externally\": True\n",
    "})\n",
    "driver = webdriver.Chrome(service=service, options=options)\n",
    "\n",
    "# Open the PDF URL\n",
    "pdf_url = 'https://link.springer.com/content/pdf/10.1007/s13391-022-00337-9.pdf'\n",
    "driver.get(pdf_url)\n",
    "\n",
    "# Wait for the file to download\n",
    "time.sleep(10)\n",
    "\n",
    "# Close the driver\n",
    "driver.quit()\n"
   ]
  }
 ],
 "metadata": {
  "kernelspec": {
   "display_name": "amgpt",
   "language": "python",
   "name": "python3"
  },
  "language_info": {
   "codemirror_mode": {
    "name": "ipython",
    "version": 3
   },
   "file_extension": ".py",
   "mimetype": "text/x-python",
   "name": "python",
   "nbconvert_exporter": "python",
   "pygments_lexer": "ipython3",
   "version": "3.10.14"
  }
 },
 "nbformat": 4,
 "nbformat_minor": 2
}
